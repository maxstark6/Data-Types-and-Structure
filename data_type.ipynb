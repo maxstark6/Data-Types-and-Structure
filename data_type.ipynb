{
  "nbformat": 4,
  "nbformat_minor": 0,
  "metadata": {
    "colab": {
      "provenance": []
    },
    "kernelspec": {
      "name": "python3",
      "display_name": "Python 3"
    },
    "language_info": {
      "name": "python"
    }
  },
  "cells": [
    {
      "cell_type": "markdown",
      "source": [
        "Q1. What are data structures, and why are they important\n",
        "- it is ways to organize and store data\n",
        "- They are important because they allow us to manage and manipulate data"
      ],
      "metadata": {
        "id": "XYF5QB2HQcJd"
      }
    },
    {
      "cell_type": "markdown",
      "source": [
        "Q2. Explain the difference between mutable and immutable data types with examples\n",
        "- Mutable data types can be changed after creation\n",
        "- EX: list ,dict ,set\n",
        "-Immutable data types cannot be changed after creation.\n",
        "-EX:  str, tuple"
      ],
      "metadata": {
        "id": "cw4nqjnNptoI"
      }
    },
    {
      "cell_type": "markdown",
      "source": [
        "Q3. What are the main differences between lists and tuples in Python\n",
        "- list are slower and have mutable data\n",
        "- ex: [1,2,3]\n",
        "- Tuple are faster and have immutable data\n",
        "- ex-(1,2,3)"
      ],
      "metadata": {
        "id": "JGPC5XtMqkqw"
      }
    },
    {
      "cell_type": "markdown",
      "source": [
        "Q4. Describe how dictionaries store data.\n",
        "- Dictionaries store data in key-value pairs.\n",
        "- Each key maps to a value."
      ],
      "metadata": {
        "id": "5lAlimRErLvv"
      }
    },
    {
      "cell_type": "markdown",
      "source": [
        "Q5. Why might you use a set instead of a list in Python?\n",
        "- You might use a set when:\n",
        "- You need unique elements\n",
        "- You want to perform set operations"
      ],
      "metadata": {
        "id": "hBHRZxlBrgLX"
      }
    },
    {
      "cell_type": "markdown",
      "source": [
        "Q6. What is a string in Python, and how is it different from a list\n",
        "- A string is a data structure sequence of characters\n",
        "- Strings are immutable, lists are mutable."
      ],
      "metadata": {
        "id": "VMhCVl3TsHw_"
      }
    },
    {
      "cell_type": "markdown",
      "source": [
        "Q7. How do tuples ensure data integrity in Python?\n",
        "- Tuples are immutable, which means once created, their values cannot be changed. This ensures that the data remains constant."
      ],
      "metadata": {
        "id": "IHGXaVaGtG4A"
      }
    },
    {
      "cell_type": "markdown",
      "source": [
        "Q8. What is a hash table, and how does it relate to dictionaries in Python\n",
        "-  hash table is a data structure that maps keys to values using a hash function.\n",
        "- dictionary is implemented using a hash table."
      ],
      "metadata": {
        "id": "Cxfpxgw4t3O_"
      }
    },
    {
      "cell_type": "markdown",
      "source": [
        "Q9. Can lists contain different data types in Python\n",
        "- Yes\n",
        "- ex: list1 = [1, \"hello\", 3.14, True]"
      ],
      "metadata": {
        "id": "pm84ruYFuJL-"
      }
    },
    {
      "cell_type": "markdown",
      "source": [
        "Q10. Explain why strings are immutable in Python.\n",
        "- Because we can't change it after it created"
      ],
      "metadata": {
        "id": "hooQGufWuVgf"
      }
    },
    {
      "cell_type": "markdown",
      "source": [
        "Q11. What advantages do dictionaries offer over lists for certain tasks\n",
        "- Ideal for scenarios where each item has a unique identifier"
      ],
      "metadata": {
        "id": "4ymb8FLM18vS"
      }
    },
    {
      "cell_type": "markdown",
      "source": [
        "Q12. Describe a scenario where using a tuple would be preferable over a list.\n",
        "- Tuples are best when:\n",
        "  The data should not change"
      ],
      "metadata": {
        "id": "KD684wBB2IO0"
      }
    },
    {
      "cell_type": "markdown",
      "source": [
        "Q13. How do sets handle duplicate values in Python\n",
        "- Sets automatically remove duplicates. They store only unique elements"
      ],
      "metadata": {
        "id": "FukbVEza2U-t"
      }
    },
    {
      "cell_type": "markdown",
      "source": [
        "Q14. How does the “in” keyword work differently for lists and dictionaries\n",
        "- In lists, in checks if a value exists.\n",
        "- In dictionaries, in checks if a key exists."
      ],
      "metadata": {
        "id": "PmhhvLHy2cfy"
      }
    },
    {
      "cell_type": "markdown",
      "source": [
        "Q15. Can you modify the elements of a tuple? Explain why or why not.\n",
        "- No, you cannot modify a tuple because it is immutable."
      ],
      "metadata": {
        "id": "7t0YfyEV2oLu"
      }
    },
    {
      "cell_type": "markdown",
      "source": [
        "Q16. What is a nested dictionary, and give an example of its use case.\n",
        "- A nested dictionary is a dictionary within another dictionary.\n",
        "-student = {\n",
        "    \"name\": \"Mayank\",\n",
        "    \"marks\": {\n",
        "        \"math\": 90,\n",
        "        \"science\": 85\n",
        "    }\n",
        "}"
      ],
      "metadata": {
        "id": "YAlRlIOx3LwD"
      }
    },
    {
      "cell_type": "markdown",
      "source": [
        "Q17. Describe the time complexity of accessing elements in a dictionary.\n",
        "- Average time complexity: O(1)\n",
        "- Worst case: O(n),"
      ],
      "metadata": {
        "id": "J-4WiZ773fzA"
      }
    },
    {
      "cell_type": "markdown",
      "source": [
        "Q18. In what situations are lists preferred over dictionaries?\n",
        "- Use lists when:\n",
        "- You need ordered data.\n",
        "- You want to store a collection of values without keys.\n",
        "- Index-based access is sufficient."
      ],
      "metadata": {
        "id": "75rUPTmd3pZa"
      }
    },
    {
      "cell_type": "markdown",
      "source": [
        "Q19. Why are dictionaries considered unordered, and how does that affect data retrieval\n",
        "- Dictionaries are considered unordered because they store data using key-value pairs,\n",
        "- so it retrive data from key value pair"
      ],
      "metadata": {
        "id": "120dgVMF4XAF"
      }
    },
    {
      "cell_type": "markdown",
      "source": [
        "Q20. Explain the difference between a list and a dictionary in terms of data retrieval.\n",
        "- List: Retrieve data using index\n",
        "- Dictionary: Retrieve data using key"
      ],
      "metadata": {
        "id": "jGpaqsaD4j9R"
      }
    },
    {
      "cell_type": "code",
      "execution_count": null,
      "metadata": {
        "colab": {
          "base_uri": "https://localhost:8080/"
        },
        "id": "D18TaPrXPrOZ",
        "outputId": "045907cb-5766-48ae-9a28-f72b47f30233"
      },
      "outputs": [
        {
          "output_type": "stream",
          "name": "stdout",
          "text": [
            "mayank\n"
          ]
        }
      ],
      "source": [
        "#1. Write a code to create a string with your name and print it\n",
        "name = \"mayank\"\n",
        "print(name)"
      ]
    },
    {
      "cell_type": "code",
      "source": [
        "#2. Write a code to find the length of the string \"Hello World\"P\n",
        "string = \"Hello World\"\n",
        "print(len(string))"
      ],
      "metadata": {
        "colab": {
          "base_uri": "https://localhost:8080/"
        },
        "id": "CNo4lL-vQ6kx",
        "outputId": "915214b6-7e93-42c3-c108-29f0dacf1852"
      },
      "execution_count": null,
      "outputs": [
        {
          "output_type": "stream",
          "name": "stdout",
          "text": [
            "11\n"
          ]
        }
      ]
    },
    {
      "cell_type": "code",
      "source": [
        "#3. Write a code to slice the first 3 characters from the string \"Python Programming\"\n",
        "string = \"Python Programming\"\n",
        "print(string[0:3])"
      ],
      "metadata": {
        "colab": {
          "base_uri": "https://localhost:8080/"
        },
        "id": "1uTxajaRRe_7",
        "outputId": "b818dba0-6148-4084-c3ec-8ff75524f64e"
      },
      "execution_count": null,
      "outputs": [
        {
          "output_type": "stream",
          "name": "stdout",
          "text": [
            "Pyt\n"
          ]
        }
      ]
    },
    {
      "cell_type": "code",
      "source": [
        "#4. Write a code to convert the string \"hello\" to uppercase\n",
        "string = \"hello\"\n",
        "print(string.upper())"
      ],
      "metadata": {
        "colab": {
          "base_uri": "https://localhost:8080/"
        },
        "id": "8-FOQ4BsRpBW",
        "outputId": "be65146d-bf6a-45b8-c989-76f11d5de9c2"
      },
      "execution_count": null,
      "outputs": [
        {
          "output_type": "stream",
          "name": "stdout",
          "text": [
            "HELLO\n"
          ]
        }
      ]
    },
    {
      "cell_type": "code",
      "source": [
        "#5.  Write a code to replace the word \"apple\" with \"orange\" in the string \"I like apple\"\n",
        "string = \"I like apple\"\n",
        "print(string.replace(\"apple\" , \"orange\"))"
      ],
      "metadata": {
        "colab": {
          "base_uri": "https://localhost:8080/"
        },
        "id": "_975IBxMRzxP",
        "outputId": "2c751162-d1dd-49c9-9592-e9a36b56a7fe"
      },
      "execution_count": null,
      "outputs": [
        {
          "output_type": "stream",
          "name": "stdout",
          "text": [
            "I like orange\n"
          ]
        }
      ]
    },
    {
      "cell_type": "code",
      "source": [
        "#6 . Write a code to create a list with numbers 1 to 5 and print it\n",
        "list1 = []\n",
        "for i in range(1,6):\n",
        "  list1.append(i)\n",
        "print(list1)\n"
      ],
      "metadata": {
        "colab": {
          "base_uri": "https://localhost:8080/"
        },
        "id": "4s2lnGs-Sc0E",
        "outputId": "26471a85-9ff1-48ed-d29b-71cfd2454083"
      },
      "execution_count": null,
      "outputs": [
        {
          "output_type": "stream",
          "name": "stdout",
          "text": [
            "[1, 2, 3, 4, 5]\n"
          ]
        }
      ]
    },
    {
      "cell_type": "code",
      "source": [
        "#7.Write a code to append the number 10 to the list [1, 2, 3, 4]\n",
        "list1 = [1,2,3,4]\n",
        "list1.append(10)\n",
        "print(list1)"
      ],
      "metadata": {
        "colab": {
          "base_uri": "https://localhost:8080/"
        },
        "id": "ikZ60xVeSz5L",
        "outputId": "4021fc8e-7128-4628-d7e1-599e40e119b2"
      },
      "execution_count": null,
      "outputs": [
        {
          "output_type": "stream",
          "name": "stdout",
          "text": [
            "[1, 2, 3, 4, 10]\n"
          ]
        }
      ]
    },
    {
      "cell_type": "code",
      "source": [
        "#8.Write a code to remove the number 3 from the list [1, 2, 3, 4, 5]\n",
        "list1 = [1,2,3,4,5]\n",
        "list1.remove(3)\n",
        "print(list1)"
      ],
      "metadata": {
        "colab": {
          "base_uri": "https://localhost:8080/"
        },
        "id": "aXwz82hHTILW",
        "outputId": "2871384c-b5b5-4e71-fd3e-3e6cef34e851"
      },
      "execution_count": null,
      "outputs": [
        {
          "output_type": "stream",
          "name": "stdout",
          "text": [
            "[1, 2, 4, 5]\n"
          ]
        }
      ]
    },
    {
      "cell_type": "code",
      "source": [
        "#9.Write a code to access the second element in the list ['a', 'b', 'c', 'd']\n",
        "list1 = ['a', 'b', 'c', 'd']\n",
        "print(list1[1])"
      ],
      "metadata": {
        "colab": {
          "base_uri": "https://localhost:8080/"
        },
        "id": "kvqqElDvUAYV",
        "outputId": "e7623741-6181-4c72-af8e-68bb48f96a1a"
      },
      "execution_count": null,
      "outputs": [
        {
          "output_type": "stream",
          "name": "stdout",
          "text": [
            "b\n"
          ]
        }
      ]
    },
    {
      "cell_type": "code",
      "source": [
        "#10.Write a code to reverse the list [10, 20, 30, 40, 50].\n",
        "list1 = [10, 20, 30, 40, 50]\n",
        "list1.reverse()\n",
        "print(list1)"
      ],
      "metadata": {
        "colab": {
          "base_uri": "https://localhost:8080/"
        },
        "id": "A0YMG-5eUWDV",
        "outputId": "c103bd48-44f1-44a9-8e17-e42c9ed2a768"
      },
      "execution_count": null,
      "outputs": [
        {
          "output_type": "stream",
          "name": "stdout",
          "text": [
            "[50, 40, 30, 20, 10]\n"
          ]
        }
      ]
    },
    {
      "cell_type": "code",
      "source": [
        "#11. Create a tuple with the elements 100, 200, 300 and print it\n",
        "tuple1 = (100,200,300)\n",
        "print(tuple1)"
      ],
      "metadata": {
        "id": "Ctu_1zQkU2o3",
        "colab": {
          "base_uri": "https://localhost:8080/"
        },
        "outputId": "7cbce5d5-a35c-4a20-8d1c-93623bf6421f"
      },
      "execution_count": 2,
      "outputs": [
        {
          "output_type": "stream",
          "name": "stdout",
          "text": [
            "(100, 200, 300)\n"
          ]
        }
      ]
    },
    {
      "cell_type": "code",
      "source": [
        "#12. Access the second-to-last element of the tuple ('red', 'green', 'blue', 'yellow')\n",
        "tuple1 = ('red', 'green', 'blue', 'yellow')\n",
        "print(tuple1[-2])"
      ],
      "metadata": {
        "colab": {
          "base_uri": "https://localhost:8080/"
        },
        "id": "NIf5NDLhj_s2",
        "outputId": "ca4351bb-1364-48b2-dc99-363f29c7b130"
      },
      "execution_count": 3,
      "outputs": [
        {
          "output_type": "stream",
          "name": "stdout",
          "text": [
            "blue\n"
          ]
        }
      ]
    },
    {
      "cell_type": "code",
      "source": [
        "#13. Find the minimum number in the tuple (10, 20, 5, 15)\n",
        "tuple1 = (10, 20, 5, 15)\n",
        "print(min(tuple1))"
      ],
      "metadata": {
        "colab": {
          "base_uri": "https://localhost:8080/"
        },
        "id": "okhDNk8WkdO7",
        "outputId": "707e3b92-0991-4116-b915-def547bf6794"
      },
      "execution_count": 4,
      "outputs": [
        {
          "output_type": "stream",
          "name": "stdout",
          "text": [
            "5\n"
          ]
        }
      ]
    },
    {
      "cell_type": "code",
      "source": [
        "#14. Find the index of the element \"cat\" in the tuple ('dog', 'cat', 'rabbit')\n",
        "tuple1 = ('dog', 'cat', 'rabbit')\n",
        "print(tuple1.index(\"cat\"))\n"
      ],
      "metadata": {
        "colab": {
          "base_uri": "https://localhost:8080/"
        },
        "id": "gVnOXL0QkoDC",
        "outputId": "22c816bf-ad90-4b28-d716-4b5cd70c3b86"
      },
      "execution_count": 5,
      "outputs": [
        {
          "output_type": "stream",
          "name": "stdout",
          "text": [
            "1\n"
          ]
        }
      ]
    },
    {
      "cell_type": "code",
      "source": [
        "#15. Create a tuple containing three different fruits and check if \"kiwi\" is in it\n",
        "tuple1 = (\"apple\" , \"banana\" , \"kiwi\")\n",
        "print(\"kiwi\" in tuple1)"
      ],
      "metadata": {
        "colab": {
          "base_uri": "https://localhost:8080/"
        },
        "id": "NzK4Jh-mmPQY",
        "outputId": "d6e86ddc-d124-4415-a201-c87aefb16f24"
      },
      "execution_count": 6,
      "outputs": [
        {
          "output_type": "stream",
          "name": "stdout",
          "text": [
            "True\n"
          ]
        }
      ]
    },
    {
      "cell_type": "code",
      "source": [
        "#16. Create a set with the elements 'a', 'b', 'c' and print it\n",
        "set1 = {\"a\",\"b\",\"c\"}\n",
        "print(set1)"
      ],
      "metadata": {
        "colab": {
          "base_uri": "https://localhost:8080/"
        },
        "id": "e60Z76f1mbE1",
        "outputId": "36c772a5-356d-45d2-8bc2-e26b5e68cd78"
      },
      "execution_count": 7,
      "outputs": [
        {
          "output_type": "stream",
          "name": "stdout",
          "text": [
            "{'b', 'a', 'c'}\n"
          ]
        }
      ]
    },
    {
      "cell_type": "code",
      "source": [
        "#17. Clear all elements from the set {1, 2, 3, 4, 5}\n",
        "set1 = {1, 2, 3, 4, 5}\n",
        "set1.clear()\n",
        "print(set1)"
      ],
      "metadata": {
        "colab": {
          "base_uri": "https://localhost:8080/"
        },
        "id": "uhpx8R7Fmv40",
        "outputId": "f7996602-203c-4848-d727-b374711eb9e8"
      },
      "execution_count": 15,
      "outputs": [
        {
          "output_type": "stream",
          "name": "stdout",
          "text": [
            "set()\n"
          ]
        }
      ]
    },
    {
      "cell_type": "code",
      "source": [
        "#18. Remove the element 4 from the set {1, 2, 3, 4}\n",
        "set1 = {1, 2, 3, 4}\n",
        "set1.remove(4)\n",
        "print(set1)"
      ],
      "metadata": {
        "colab": {
          "base_uri": "https://localhost:8080/"
        },
        "id": "xFFAv6k5nEIn",
        "outputId": "1502b01a-0009-4130-ee0f-7f52ccbd9560"
      },
      "execution_count": 16,
      "outputs": [
        {
          "output_type": "stream",
          "name": "stdout",
          "text": [
            "{1, 2, 3}\n"
          ]
        }
      ]
    },
    {
      "cell_type": "code",
      "source": [
        "#19. Find the union of two sets {1, 2, 3} and {3, 4, 5}\n",
        "set1 = {1, 2, 3}\n",
        "set2 = {3, 4, 5}\n",
        "print(set.union(set1,set2))"
      ],
      "metadata": {
        "colab": {
          "base_uri": "https://localhost:8080/"
        },
        "id": "SZVOS87tntvx",
        "outputId": "aadb6ee1-eb79-4afc-d122-2a31925ba598"
      },
      "execution_count": 19,
      "outputs": [
        {
          "output_type": "stream",
          "name": "stdout",
          "text": [
            "{1, 2, 3, 4, 5}\n"
          ]
        }
      ]
    },
    {
      "cell_type": "code",
      "source": [
        "#20. Find the intersection of two sets {1, 2, 3} and {2, 3, 4}\n",
        "set1 = {1, 2, 3}\n",
        "set2 = {2, 3, 4}\n",
        "print(set.intersection(set1,set2))"
      ],
      "metadata": {
        "colab": {
          "base_uri": "https://localhost:8080/"
        },
        "id": "llze0EMOoWhb",
        "outputId": "29da40d2-4bf9-4ca7-be14-3b59e1ced8c2"
      },
      "execution_count": 20,
      "outputs": [
        {
          "output_type": "stream",
          "name": "stdout",
          "text": [
            "{2, 3}\n"
          ]
        }
      ]
    },
    {
      "cell_type": "code",
      "source": [
        "#21. Create a dictionary with the keys \"name\", \"age\", and \"city\", and print it\n",
        "person = {\"name\": \"John\", \"age\": 25, \"city\": \"New York\"}\n",
        "print(person)\n"
      ],
      "metadata": {
        "colab": {
          "base_uri": "https://localhost:8080/"
        },
        "id": "hKS4pZFkpEm7",
        "outputId": "3a4a9a20-7169-4173-ef0f-17fbefd756e3"
      },
      "execution_count": 1,
      "outputs": [
        {
          "output_type": "stream",
          "name": "stdout",
          "text": [
            "{'name': 'John', 'age': 25, 'city': 'New York'}\n"
          ]
        }
      ]
    },
    {
      "cell_type": "code",
      "source": [
        "#22. Add a new key-value pair \"country\": \"USA\" to the dictionary\n",
        "person = {'name': 'John', 'age': 25}\n",
        "person[\"country\"] = \"USA\"\n",
        "print(person)\n"
      ],
      "metadata": {
        "colab": {
          "base_uri": "https://localhost:8080/"
        },
        "id": "Njg_8W6c_V3i",
        "outputId": "d799c96d-84ae-4123-823c-3a8e93246c86"
      },
      "execution_count": 2,
      "outputs": [
        {
          "output_type": "stream",
          "name": "stdout",
          "text": [
            "{'name': 'John', 'age': 25, 'country': 'USA'}\n"
          ]
        }
      ]
    },
    {
      "cell_type": "code",
      "source": [
        "#23. Access the value associated with the key \"name\"\n",
        "person = {'name': 'Alice', 'age': 30}\n",
        "print(person[\"name\"])  # Output: Alice\n"
      ],
      "metadata": {
        "colab": {
          "base_uri": "https://localhost:8080/"
        },
        "id": "M45WQrZv_bKM",
        "outputId": "a5b5bb6f-17bd-4062-ee30-5710983788fa"
      },
      "execution_count": 3,
      "outputs": [
        {
          "output_type": "stream",
          "name": "stdout",
          "text": [
            "Alice\n"
          ]
        }
      ]
    },
    {
      "cell_type": "code",
      "source": [
        "#24. Remove the key \"age\" from the dictionary\n",
        "person = {'name': 'Bob', 'age': 22, 'city': 'New York'}\n",
        "del person[\"age\"]\n",
        "print(person)\n"
      ],
      "metadata": {
        "colab": {
          "base_uri": "https://localhost:8080/"
        },
        "id": "zLFlk-qq_d60",
        "outputId": "9cdb8c1b-469a-4048-ed17-4426a1c52d01"
      },
      "execution_count": 4,
      "outputs": [
        {
          "output_type": "stream",
          "name": "stdout",
          "text": [
            "{'name': 'Bob', 'city': 'New York'}\n"
          ]
        }
      ]
    },
    {
      "cell_type": "code",
      "source": [
        "#25. Check if the key \"city\" exists in the dictionary\n",
        "person = {'name': 'Alice', 'city': 'Paris'}\n",
        "print(\"city\" in person)  # Output: True\n"
      ],
      "metadata": {
        "colab": {
          "base_uri": "https://localhost:8080/"
        },
        "id": "2dZfsmu-_ls8",
        "outputId": "212b66a6-ba67-4fea-ad49-7f82eac568be"
      },
      "execution_count": 5,
      "outputs": [
        {
          "output_type": "stream",
          "name": "stdout",
          "text": [
            "True\n"
          ]
        }
      ]
    },
    {
      "cell_type": "code",
      "source": [
        "#26. Create a list, a tuple, and a dictionary, and print them all\n",
        "my_list = [1, 2, 3]\n",
        "my_tuple = (4, 5, 6)\n",
        "my_dict = {\"a\": 7, \"b\": 8}\n",
        "\n",
        "print(\"List:\", my_list)\n",
        "print(\"Tuple:\", my_tuple)\n",
        "print(\"Dictionary:\", my_dict)\n"
      ],
      "metadata": {
        "colab": {
          "base_uri": "https://localhost:8080/"
        },
        "id": "n_KV2W7n_qG2",
        "outputId": "006c91de-6331-49ba-fbd5-16cf83e93a1c"
      },
      "execution_count": 6,
      "outputs": [
        {
          "output_type": "stream",
          "name": "stdout",
          "text": [
            "List: [1, 2, 3]\n",
            "Tuple: (4, 5, 6)\n",
            "Dictionary: {'a': 7, 'b': 8}\n"
          ]
        }
      ]
    },
    {
      "cell_type": "code",
      "source": [
        "#27. Create a list of 5 random numbers between 1 and 100, sort it, and print the result\n",
        "import random\n",
        "\n",
        "numbers = random.sample(range(1, 101), 5)\n",
        "numbers.sort()\n",
        "print(numbers)\n"
      ],
      "metadata": {
        "colab": {
          "base_uri": "https://localhost:8080/"
        },
        "id": "NihHDIkI_tOd",
        "outputId": "2b0b37ff-8a76-4d23-e0dd-3d61d4174c34"
      },
      "execution_count": 7,
      "outputs": [
        {
          "output_type": "stream",
          "name": "stdout",
          "text": [
            "[1, 69, 81, 82, 89]\n"
          ]
        }
      ]
    },
    {
      "cell_type": "code",
      "source": [
        "#28. Create a list with strings and print the element at the third index\n",
        "words = [\"apple\", \"banana\", \"cherry\", \"date\", \"fig\"]\n",
        "print(words[3])  # Output: date\n"
      ],
      "metadata": {
        "colab": {
          "base_uri": "https://localhost:8080/"
        },
        "id": "ZCgrjqnG_wFj",
        "outputId": "46e0dc16-7c24-4cd1-bcd7-c9b9d082e961"
      },
      "execution_count": 8,
      "outputs": [
        {
          "output_type": "stream",
          "name": "stdout",
          "text": [
            "date\n"
          ]
        }
      ]
    },
    {
      "cell_type": "code",
      "source": [
        "#29. Combine two dictionaries into one and print the result\n",
        "dict1 = {\"a\": 1, \"b\": 2}\n",
        "dict2 = {\"c\": 3, \"d\": 4}\n",
        "\n",
        "combined = {**dict1, **dict2}\n",
        "print(combined)\n"
      ],
      "metadata": {
        "colab": {
          "base_uri": "https://localhost:8080/"
        },
        "id": "mIX3Yo2d_1O6",
        "outputId": "b77736af-697a-4b84-a05a-c5d41aefc745"
      },
      "execution_count": 9,
      "outputs": [
        {
          "output_type": "stream",
          "name": "stdout",
          "text": [
            "{'a': 1, 'b': 2, 'c': 3, 'd': 4}\n"
          ]
        }
      ]
    },
    {
      "cell_type": "code",
      "source": [
        "#30. Convert a list of strings into a set\n",
        "string_list = [\"apple\", \"banana\", \"apple\", \"cherry\"]\n",
        "string_set = set(string_list)\n",
        "print(string_set)\n"
      ],
      "metadata": {
        "colab": {
          "base_uri": "https://localhost:8080/"
        },
        "id": "Dy2ugmDe_5ZM",
        "outputId": "157810e1-57bc-404b-eb0b-4b3452d86672"
      },
      "execution_count": 11,
      "outputs": [
        {
          "output_type": "stream",
          "name": "stdout",
          "text": [
            "{'apple', 'cherry', 'banana'}\n"
          ]
        }
      ]
    },
    {
      "cell_type": "code",
      "source": [],
      "metadata": {
        "id": "piRobp1n_7-p"
      },
      "execution_count": null,
      "outputs": []
    }
  ]
}